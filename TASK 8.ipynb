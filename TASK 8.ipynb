{
  "nbformat": 4,
  "nbformat_minor": 0,
  "metadata": {
    "colab": {
      "name": "TASK 8.ipynb",
      "provenance": [],
      "include_colab_link": true
    },
    "kernelspec": {
      "name": "python3",
      "display_name": "Python 3"
    },
    "language_info": {
      "name": "python"
    }
  },
  "cells": [
    {
      "cell_type": "markdown",
      "metadata": {
        "id": "view-in-github",
        "colab_type": "text"
      },
      "source": [
        "<a href=\"https://colab.research.google.com/github/Amritha-Pradeep/Learn.Py/blob/main/TASK%208.ipynb\" target=\"_parent\"><img src=\"https://colab.research.google.com/assets/colab-badge.svg\" alt=\"Open In Colab\"/></a>"
      ]
    },
    {
      "cell_type": "markdown",
      "metadata": {
        "id": "slsGswYbJSo7"
      },
      "source": [
        "1. Generate a 3 x 3 matrix using random module."
      ]
    },
    {
      "cell_type": "code",
      "metadata": {
        "id": "GGRQSYyNJW9t",
        "outputId": "9dcd63a9-6197-4eeb-9af6-9ee96a3471af",
        "colab": {
          "base_uri": "https://localhost:8080/"
        }
      },
      "source": [
        "#please provide your answer below this line.\n",
        "import numpy as np\n",
        "a = np.random.rand(3,3)\n",
        "print(a)"
      ],
      "execution_count": 8,
      "outputs": [
        {
          "output_type": "stream",
          "text": [
            "[[0.11823174 0.32544271 0.95075437]\n",
            " [0.7656063  0.42907283 0.91299627]\n",
            " [0.04141393 0.3377791  0.41253264]]\n"
          ],
          "name": "stdout"
        }
      ]
    },
    {
      "cell_type": "markdown",
      "metadata": {
        "id": "4OB9KFX6JfYA"
      },
      "source": [
        "2. Generate two 4 x 4 matrix using numpy and \n",
        "\n",
        " a) Reshape it to 2 x 8matrix and vertically stack it.\n",
        "\n",
        " b) Reshape it to 2 x 8 matrix and horizontally stack it."
      ]
    },
    {
      "cell_type": "code",
      "metadata": {
        "id": "VoIqYeNWJ4H_",
        "outputId": "fa8f52d9-2be8-438e-97bf-0566ae2a6c58",
        "colab": {
          "base_uri": "https://localhost:8080/"
        }
      },
      "source": [
        "#please provide your answer below this line.\n",
        "import numpy as np\n",
        "a = np.arange(4,20).reshape(4,4)\n",
        "print(a)\n",
        "b = np.arange(7,23).reshape(4,4)\n",
        "print(b)\n",
        "a = np.arange(4,20).reshape(2,8)\n",
        "b = np.arange(7,23).reshape(2,8)\n",
        "x = np.vstack((a,b))\n",
        "print(x)\n",
        "y = np.hstack((a,b))\n",
        "print(y)"
      ],
      "execution_count": 7,
      "outputs": [
        {
          "output_type": "stream",
          "text": [
            "[[ 4  5  6  7]\n",
            " [ 8  9 10 11]\n",
            " [12 13 14 15]\n",
            " [16 17 18 19]]\n",
            "[[ 7  8  9 10]\n",
            " [11 12 13 14]\n",
            " [15 16 17 18]\n",
            " [19 20 21 22]]\n",
            "[[ 4  5  6  7  8  9 10 11]\n",
            " [12 13 14 15 16 17 18 19]\n",
            " [ 7  8  9 10 11 12 13 14]\n",
            " [15 16 17 18 19 20 21 22]]\n",
            "[[ 4  5  6  7  8  9 10 11  7  8  9 10 11 12 13 14]\n",
            " [12 13 14 15 16 17 18 19 15 16 17 18 19 20 21 22]]\n"
          ],
          "name": "stdout"
        }
      ]
    }
  ]
}