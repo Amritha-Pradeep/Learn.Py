{
  "nbformat": 4,
  "nbformat_minor": 0,
  "metadata": {
    "colab": {
      "name": "TASK  7.ipynb",
      "provenance": [],
      "include_colab_link": true
    },
    "kernelspec": {
      "name": "python3",
      "display_name": "Python 3"
    },
    "language_info": {
      "name": "python"
    }
  },
  "cells": [
    {
      "cell_type": "markdown",
      "metadata": {
        "id": "view-in-github",
        "colab_type": "text"
      },
      "source": [
        "<a href=\"https://colab.research.google.com/github/Amritha-Pradeep/Learn.Py/blob/main/TASK%207.ipynb\" target=\"_parent\"><img src=\"https://colab.research.google.com/assets/colab-badge.svg\" alt=\"Open In Colab\"/></a>"
      ]
    },
    {
      "cell_type": "markdown",
      "metadata": {
        "id": "b0V3vwzcydKy"
      },
      "source": [
        "1. Write a program to check whether a  string is palindrome or not using functions. \n",
        "\n",
        "   ( A function is to be created to check whether the string is palindrome and it should give the output true or false to the main program)"
      ]
    },
    {
      "cell_type": "code",
      "metadata": {
        "id": "M2Mi7EOdyxiu",
        "outputId": "60db2dc6-3bc3-405b-a369-c5e97058ae80",
        "colab": {
          "base_uri": "https://localhost:8080/"
        }
      },
      "source": [
        "#please enter the code below this line.\n",
        " \n",
        "def Palindrome(k):\n",
        "  if k==string[::-1] :\n",
        "    print(\"Palindrome\")\n",
        "  else:\n",
        "    print('Not palindrome')\n",
        " \n",
        "string=input(\"Enter a string : \")\n",
        "Palindrome(string)"
      ],
      "execution_count": 36,
      "outputs": [
        {
          "output_type": "stream",
          "text": [
            "Enter a string : refer\n",
            "Palindrome\n"
          ],
          "name": "stdout"
        }
      ]
    },
    {
      "cell_type": "markdown",
      "metadata": {
        "id": "vSiShTyOzEz-"
      },
      "source": [
        "2.  Write a menu driven program to find largest element in L, smallest element, avg of all values, sum of all values in L. All these operation should be performed in different functions and the result should be returned.\n",
        "\n",
        "\n",
        "      L=[23,24,11,90,1,41,9,99,28,56,72]"
      ]
    },
    {
      "cell_type": "code",
      "metadata": {
        "id": "fRtMIw_CzsmO",
        "outputId": "dd519e2d-2191-4958-db24-95d041ffc589",
        "colab": {
          "base_uri": "https://localhost:8080/"
        }
      },
      "source": [
        "#please enter the code below this line.\n",
        " \n",
        "l = [23,24,11,90,1,41,9,99,28,56,72]\n",
        "choice = int(input(\"Enter your choice : \"))\n",
        " \n",
        "def smallest(l):\n",
        "    l.sort()\n",
        "    smallest_number = l[0]\n",
        "    print(smallest_number)\n",
        "    \n",
        "def largest(l):\n",
        "    l.sort()\n",
        "    largest_number = l[len(l) - 1]\n",
        "    print(largest_number)\n",
        "    \n",
        "def totalsum(l):\n",
        "    total = sum(l)\n",
        "    print(total)\n",
        "    \n",
        "def average(l):\n",
        "    average = sum(l)/len(l)\n",
        "    print(average)\n",
        "    \n",
        " \n",
        "if choice == 1:\n",
        "    smallest(l)\n",
        "elif choice == 2:\n",
        "    largest(l)\n",
        "elif choice == 3:\n",
        "    average(l)\n",
        "elif choice == 4:\n",
        "    totalsum(l)\n",
        "else:\n",
        "    print(\"wrong choice\")"
      ],
      "execution_count": 42,
      "outputs": [
        {
          "output_type": "stream",
          "text": [
            "Enter your choice : 2\n",
            "99\n"
          ],
          "name": "stdout"
        }
      ]
    }
  ]
}